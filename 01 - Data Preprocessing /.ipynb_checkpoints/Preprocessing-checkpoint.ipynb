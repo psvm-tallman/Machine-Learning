{
 "cells": [
  {
   "cell_type": "markdown",
   "id": "f8446001-8916-48f4-9ee0-032e4eacad41",
   "metadata": {},
   "source": [
    "<h2>Importing the Libraries</h2>"
   ]
  },
  {
   "cell_type": "code",
   "execution_count": 14,
   "id": "33e71fcd-dff7-4b16-9f7b-5b40b16d5c65",
   "metadata": {},
   "outputs": [],
   "source": [
    "import numpy as np\n",
    "import pandas as pd\n",
    "import matplotlib.pyplot as plt"
   ]
  },
  {
   "cell_type": "markdown",
   "id": "945f6b51-f704-416f-9194-3610d750e04d",
   "metadata": {},
   "source": [
    "<h2>Import the Dataset</h2>"
   ]
  },
  {
   "cell_type": "code",
   "execution_count": 15,
   "id": "3dddd138-d62f-48c9-9ae4-790ed58f4401",
   "metadata": {},
   "outputs": [],
   "source": [
    "dataset = pd.read_csv('Data.csv')"
   ]
  },
  {
   "cell_type": "code",
   "execution_count": 16,
   "id": "8a60917c-2eea-4ade-8ab3-1d94fa502840",
   "metadata": {},
   "outputs": [
    {
     "data": {
      "text/html": [
       "<div>\n",
       "<style scoped>\n",
       "    .dataframe tbody tr th:only-of-type {\n",
       "        vertical-align: middle;\n",
       "    }\n",
       "\n",
       "    .dataframe tbody tr th {\n",
       "        vertical-align: top;\n",
       "    }\n",
       "\n",
       "    .dataframe thead th {\n",
       "        text-align: right;\n",
       "    }\n",
       "</style>\n",
       "<table border=\"1\" class=\"dataframe\">\n",
       "  <thead>\n",
       "    <tr style=\"text-align: right;\">\n",
       "      <th></th>\n",
       "      <th>Country</th>\n",
       "      <th>Age</th>\n",
       "      <th>Salary</th>\n",
       "      <th>Purchased</th>\n",
       "    </tr>\n",
       "  </thead>\n",
       "  <tbody>\n",
       "    <tr>\n",
       "      <th>0</th>\n",
       "      <td>France</td>\n",
       "      <td>44.0</td>\n",
       "      <td>72000.0</td>\n",
       "      <td>No</td>\n",
       "    </tr>\n",
       "    <tr>\n",
       "      <th>1</th>\n",
       "      <td>Spain</td>\n",
       "      <td>27.0</td>\n",
       "      <td>48000.0</td>\n",
       "      <td>Yes</td>\n",
       "    </tr>\n",
       "    <tr>\n",
       "      <th>2</th>\n",
       "      <td>Germany</td>\n",
       "      <td>30.0</td>\n",
       "      <td>54000.0</td>\n",
       "      <td>No</td>\n",
       "    </tr>\n",
       "    <tr>\n",
       "      <th>3</th>\n",
       "      <td>Spain</td>\n",
       "      <td>38.0</td>\n",
       "      <td>61000.0</td>\n",
       "      <td>No</td>\n",
       "    </tr>\n",
       "    <tr>\n",
       "      <th>4</th>\n",
       "      <td>Germany</td>\n",
       "      <td>40.0</td>\n",
       "      <td>NaN</td>\n",
       "      <td>Yes</td>\n",
       "    </tr>\n",
       "    <tr>\n",
       "      <th>5</th>\n",
       "      <td>France</td>\n",
       "      <td>35.0</td>\n",
       "      <td>58000.0</td>\n",
       "      <td>Yes</td>\n",
       "    </tr>\n",
       "    <tr>\n",
       "      <th>6</th>\n",
       "      <td>Spain</td>\n",
       "      <td>NaN</td>\n",
       "      <td>52000.0</td>\n",
       "      <td>No</td>\n",
       "    </tr>\n",
       "    <tr>\n",
       "      <th>7</th>\n",
       "      <td>France</td>\n",
       "      <td>48.0</td>\n",
       "      <td>79000.0</td>\n",
       "      <td>Yes</td>\n",
       "    </tr>\n",
       "    <tr>\n",
       "      <th>8</th>\n",
       "      <td>Germany</td>\n",
       "      <td>50.0</td>\n",
       "      <td>83000.0</td>\n",
       "      <td>No</td>\n",
       "    </tr>\n",
       "    <tr>\n",
       "      <th>9</th>\n",
       "      <td>France</td>\n",
       "      <td>37.0</td>\n",
       "      <td>67000.0</td>\n",
       "      <td>Yes</td>\n",
       "    </tr>\n",
       "  </tbody>\n",
       "</table>\n",
       "</div>"
      ],
      "text/plain": [
       "   Country   Age   Salary Purchased\n",
       "0   France  44.0  72000.0        No\n",
       "1    Spain  27.0  48000.0       Yes\n",
       "2  Germany  30.0  54000.0        No\n",
       "3    Spain  38.0  61000.0        No\n",
       "4  Germany  40.0      NaN       Yes\n",
       "5   France  35.0  58000.0       Yes\n",
       "6    Spain   NaN  52000.0        No\n",
       "7   France  48.0  79000.0       Yes\n",
       "8  Germany  50.0  83000.0        No\n",
       "9   France  37.0  67000.0       Yes"
      ]
     },
     "execution_count": 16,
     "metadata": {},
     "output_type": "execute_result"
    }
   ],
   "source": [
    "dataset"
   ]
  },
  {
   "cell_type": "markdown",
   "id": "02723e2e-ea1b-4bd5-b111-3b12b5bef9a5",
   "metadata": {},
   "source": [
    "In a dataset, X (features) and y (target variable) are decided based on what you are trying to predict and the input variables that will help in making that prediction. Here's how they are determined:\n",
    "\n",
    "1. X (Features/Inputs):\n",
    "These are the independent variables that are used to predict the outcome.\n",
    "They provide the necessary information for the model to make predictions.\n",
    "Features could be numerical or categorical, like age, income, number of bedrooms, etc.\n",
    "Example: If you are predicting house prices, your features could be:\n",
    "\n",
    "X = [Square footage, number of bedrooms, location, year built]\n",
    "\n",
    "2. y (Target/Output):\n",
    "This is the dependent variable (or the label) that you want to predict.\n",
    "It is the result that depends on the values of the features.\n",
    "Example: For the house price prediction task, the target variable could be:\n",
    "\n",
    "y = [Price of the house]"
   ]
  },
  {
   "cell_type": "code",
   "execution_count": 17,
   "id": "043bd237-1dc6-49b2-950f-0d7b9df84401",
   "metadata": {},
   "outputs": [],
   "source": [
    "X = dataset.iloc[:,:-1]\n",
    "y = dataset.iloc[:,-1]"
   ]
  },
  {
   "cell_type": "markdown",
   "id": "6f0b633f-a7a0-4acd-88dd-288c2313d496",
   "metadata": {},
   "source": [
    "X = dataset.iloc[:, :-1]:\n",
    "\n",
    "dataset.iloc[:, :-1] selects all rows (:) and all columns except the last one (:-1).\n",
    "This means that X will contain all the features (independent variables) of the dataset except the last column.\n",
    "\n",
    "y = dataset.iloc[:, -1]:\n",
    "\n",
    "dataset.iloc[:, -1] selects all rows (:) and only the last column (-1).\n",
    "This means that y will be the last column, which is usually the target variable (dependent variable) you want to predict."
   ]
  },
  {
   "cell_type": "code",
   "execution_count": 18,
   "id": "12d311f2-af75-4414-8b15-36e85b660a45",
   "metadata": {},
   "outputs": [
    {
     "name": "stdout",
     "output_type": "stream",
     "text": [
      "   Country   Age   Salary\n",
      "0   France  44.0  72000.0\n",
      "1    Spain  27.0  48000.0\n",
      "2  Germany  30.0  54000.0\n",
      "3    Spain  38.0  61000.0\n",
      "4  Germany  40.0      NaN\n",
      "5   France  35.0  58000.0\n",
      "6    Spain   NaN  52000.0\n",
      "7   France  48.0  79000.0\n",
      "8  Germany  50.0  83000.0\n",
      "9   France  37.0  67000.0\n"
     ]
    }
   ],
   "source": [
    "print(X)"
   ]
  },
  {
   "cell_type": "code",
   "execution_count": 19,
   "id": "59a3a117-24e5-4ff3-8582-af68d1e9cfc5",
   "metadata": {},
   "outputs": [
    {
     "name": "stdout",
     "output_type": "stream",
     "text": [
      "0     No\n",
      "1    Yes\n",
      "2     No\n",
      "3     No\n",
      "4    Yes\n",
      "5    Yes\n",
      "6     No\n",
      "7    Yes\n",
      "8     No\n",
      "9    Yes\n",
      "Name: Purchased, dtype: object\n"
     ]
    }
   ],
   "source": [
    "print(y)"
   ]
  },
  {
   "cell_type": "markdown",
   "id": "f83bc1dc-90e1-4983-b883-b1a05229b80e",
   "metadata": {},
   "source": [
    "<h2>Taking Care of Missing Data</h2>"
   ]
  },
  {
   "cell_type": "code",
   "execution_count": 24,
   "id": "42eb57b9-1aa2-49f3-837c-53a4a8623b90",
   "metadata": {},
   "outputs": [],
   "source": [
    "from sklearn.impute import SimpleImputer\n",
    "imputer = SimpleImputer(missing_values=np.nan, strategy='mean')\n",
    "imputer.fit(X.iloc[:, 1:3])\n",
    "X.iloc[:,1:3] = imputer.transform(X.iloc[:, 1:3])"
   ]
  },
  {
   "cell_type": "markdown",
   "id": "dff06163-1183-407a-85de-9ab86086df0e",
   "metadata": {},
   "source": [
    "SimpleImputer: This class from sklearn is used to handle missing data by replacing missing values. In this case, it replaces np.nan values with the mean of the feature where the missing value occurs.\n",
    "\n",
    "1. missing_values=np.nan: This tells the imputer to look for NaN values in the data.\n",
    "strategy='mean': This defines that the missing values will be replaced by the mean of the column.\n",
    "\n",
    "2. fit(): This method computes the mean of columns 1 and 2 (because the index is zero-based, the slice 1:3 refers to the 2nd and 3rd columns). The imputer learns the mean value from the data in these columns.\n",
    "\n",
    "3. transform(): After fitting the imputer with the mean values of columns 1 and 2, the transform() method is used to replace the missing values (np.nan) in those columns with the computed mean.\n",
    "\n",
    "X[:, 1:3] =: This updates the original matrix X by assigning the transformed values back to columns 1 and 2."
   ]
  },
  {
   "cell_type": "code",
   "execution_count": 25,
   "id": "62454584-00ad-426e-bb24-670f3765981d",
   "metadata": {},
   "outputs": [
    {
     "name": "stdout",
     "output_type": "stream",
     "text": [
      "   Country        Age        Salary\n",
      "0   France  44.000000  72000.000000\n",
      "1    Spain  27.000000  48000.000000\n",
      "2  Germany  30.000000  54000.000000\n",
      "3    Spain  38.000000  61000.000000\n",
      "4  Germany  40.000000  63777.777778\n",
      "5   France  35.000000  58000.000000\n",
      "6    Spain  38.777778  52000.000000\n",
      "7   France  48.000000  79000.000000\n",
      "8  Germany  50.000000  83000.000000\n",
      "9   France  37.000000  67000.000000\n"
     ]
    }
   ],
   "source": [
    "print(X)"
   ]
  },
  {
   "cell_type": "markdown",
   "id": "3e00e504-1d34-41d1-b540-71fbdabeee4c",
   "metadata": {},
   "source": [
    "<h2>Encoding Categorical Data</h2>"
   ]
  },
  {
   "cell_type": "code",
   "execution_count": null,
   "id": "afd2f1e5-8154-4cad-a60d-65ed8ab8bbe9",
   "metadata": {},
   "outputs": [],
   "source": []
  }
 ],
 "metadata": {
  "kernelspec": {
   "display_name": "Python 3 (ipykernel)",
   "language": "python",
   "name": "python3"
  },
  "language_info": {
   "codemirror_mode": {
    "name": "ipython",
    "version": 3
   },
   "file_extension": ".py",
   "mimetype": "text/x-python",
   "name": "python",
   "nbconvert_exporter": "python",
   "pygments_lexer": "ipython3",
   "version": "3.12.5"
  }
 },
 "nbformat": 4,
 "nbformat_minor": 5
}
