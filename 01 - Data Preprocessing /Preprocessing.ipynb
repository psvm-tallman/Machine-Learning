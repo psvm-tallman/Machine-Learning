{
 "cells": [
  {
   "cell_type": "markdown",
   "id": "f8446001-8916-48f4-9ee0-032e4eacad41",
   "metadata": {},
   "source": [
    "<h2>Importing the Libraries</h2>"
   ]
  },
  {
   "cell_type": "code",
   "execution_count": 2,
   "id": "33e71fcd-dff7-4b16-9f7b-5b40b16d5c65",
   "metadata": {},
   "outputs": [],
   "source": [
    "import numpy as np\n",
    "import pandas as pd\n",
    "import matplotlib.pyplot as plt"
   ]
  },
  {
   "cell_type": "markdown",
   "id": "945f6b51-f704-416f-9194-3610d750e04d",
   "metadata": {},
   "source": [
    "<h2>Import the Dataset</h2>"
   ]
  },
  {
   "cell_type": "code",
   "execution_count": 3,
   "id": "3dddd138-d62f-48c9-9ae4-790ed58f4401",
   "metadata": {},
   "outputs": [],
   "source": [
    "dataset = pd.read_csv('Data.csv')"
   ]
  },
  {
   "cell_type": "code",
   "execution_count": 4,
   "id": "8a60917c-2eea-4ade-8ab3-1d94fa502840",
   "metadata": {},
   "outputs": [
    {
     "data": {
      "text/html": [
       "<div>\n",
       "<style scoped>\n",
       "    .dataframe tbody tr th:only-of-type {\n",
       "        vertical-align: middle;\n",
       "    }\n",
       "\n",
       "    .dataframe tbody tr th {\n",
       "        vertical-align: top;\n",
       "    }\n",
       "\n",
       "    .dataframe thead th {\n",
       "        text-align: right;\n",
       "    }\n",
       "</style>\n",
       "<table border=\"1\" class=\"dataframe\">\n",
       "  <thead>\n",
       "    <tr style=\"text-align: right;\">\n",
       "      <th></th>\n",
       "      <th>Country</th>\n",
       "      <th>Age</th>\n",
       "      <th>Salary</th>\n",
       "      <th>Purchased</th>\n",
       "    </tr>\n",
       "  </thead>\n",
       "  <tbody>\n",
       "    <tr>\n",
       "      <th>0</th>\n",
       "      <td>France</td>\n",
       "      <td>44.0</td>\n",
       "      <td>72000.0</td>\n",
       "      <td>No</td>\n",
       "    </tr>\n",
       "    <tr>\n",
       "      <th>1</th>\n",
       "      <td>Spain</td>\n",
       "      <td>27.0</td>\n",
       "      <td>48000.0</td>\n",
       "      <td>Yes</td>\n",
       "    </tr>\n",
       "    <tr>\n",
       "      <th>2</th>\n",
       "      <td>Germany</td>\n",
       "      <td>30.0</td>\n",
       "      <td>54000.0</td>\n",
       "      <td>No</td>\n",
       "    </tr>\n",
       "    <tr>\n",
       "      <th>3</th>\n",
       "      <td>Spain</td>\n",
       "      <td>38.0</td>\n",
       "      <td>61000.0</td>\n",
       "      <td>No</td>\n",
       "    </tr>\n",
       "    <tr>\n",
       "      <th>4</th>\n",
       "      <td>Germany</td>\n",
       "      <td>40.0</td>\n",
       "      <td>NaN</td>\n",
       "      <td>Yes</td>\n",
       "    </tr>\n",
       "    <tr>\n",
       "      <th>5</th>\n",
       "      <td>France</td>\n",
       "      <td>35.0</td>\n",
       "      <td>58000.0</td>\n",
       "      <td>Yes</td>\n",
       "    </tr>\n",
       "    <tr>\n",
       "      <th>6</th>\n",
       "      <td>Spain</td>\n",
       "      <td>NaN</td>\n",
       "      <td>52000.0</td>\n",
       "      <td>No</td>\n",
       "    </tr>\n",
       "    <tr>\n",
       "      <th>7</th>\n",
       "      <td>France</td>\n",
       "      <td>48.0</td>\n",
       "      <td>79000.0</td>\n",
       "      <td>Yes</td>\n",
       "    </tr>\n",
       "    <tr>\n",
       "      <th>8</th>\n",
       "      <td>Germany</td>\n",
       "      <td>50.0</td>\n",
       "      <td>83000.0</td>\n",
       "      <td>No</td>\n",
       "    </tr>\n",
       "    <tr>\n",
       "      <th>9</th>\n",
       "      <td>France</td>\n",
       "      <td>37.0</td>\n",
       "      <td>67000.0</td>\n",
       "      <td>Yes</td>\n",
       "    </tr>\n",
       "  </tbody>\n",
       "</table>\n",
       "</div>"
      ],
      "text/plain": [
       "   Country   Age   Salary Purchased\n",
       "0   France  44.0  72000.0        No\n",
       "1    Spain  27.0  48000.0       Yes\n",
       "2  Germany  30.0  54000.0        No\n",
       "3    Spain  38.0  61000.0        No\n",
       "4  Germany  40.0      NaN       Yes\n",
       "5   France  35.0  58000.0       Yes\n",
       "6    Spain   NaN  52000.0        No\n",
       "7   France  48.0  79000.0       Yes\n",
       "8  Germany  50.0  83000.0        No\n",
       "9   France  37.0  67000.0       Yes"
      ]
     },
     "execution_count": 4,
     "metadata": {},
     "output_type": "execute_result"
    }
   ],
   "source": [
    "dataset"
   ]
  },
  {
   "cell_type": "markdown",
   "id": "02723e2e-ea1b-4bd5-b111-3b12b5bef9a5",
   "metadata": {},
   "source": [
    "In a dataset, X (features) and y (target variable) are decided based on what you are trying to predict and the input variables that will help in making that prediction. Here's how they are determined:\n",
    "\n",
    "1. X (Features/Inputs):\n",
    "These are the independent variables that are used to predict the outcome.\n",
    "They provide the necessary information for the model to make predictions.\n",
    "Features could be numerical or categorical, like age, income, number of bedrooms, etc.\n",
    "Example: If you are predicting house prices, your features could be:\n",
    "\n",
    "X = [Square footage, number of bedrooms, location, year built]\n",
    "\n",
    "2. y (Target/Output):\n",
    "This is the dependent variable (or the label) that you want to predict.\n",
    "It is the result that depends on the values of the features.\n",
    "Example: For the house price prediction task, the target variable could be:\n",
    "\n",
    "y = [Price of the house]"
   ]
  },
  {
   "cell_type": "code",
   "execution_count": 5,
   "id": "043bd237-1dc6-49b2-950f-0d7b9df84401",
   "metadata": {},
   "outputs": [],
   "source": [
    "X = dataset.iloc[:,:-1]\n",
    "y = dataset.iloc[:,-1]"
   ]
  },
  {
   "cell_type": "markdown",
   "id": "6f0b633f-a7a0-4acd-88dd-288c2313d496",
   "metadata": {},
   "source": [
    "X = dataset.iloc[:, :-1]:\n",
    "\n",
    "dataset.iloc[:, :-1] selects all rows (:) and all columns except the last one (:-1).\n",
    "This means that X will contain all the features (independent variables) of the dataset except the last column.\n",
    "\n",
    "y = dataset.iloc[:, -1]:\n",
    "\n",
    "dataset.iloc[:, -1] selects all rows (:) and only the last column (-1).\n",
    "This means that y will be the last column, which is usually the target variable (dependent variable) you want to predict."
   ]
  },
  {
   "cell_type": "code",
   "execution_count": 6,
   "id": "12d311f2-af75-4414-8b15-36e85b660a45",
   "metadata": {},
   "outputs": [
    {
     "name": "stdout",
     "output_type": "stream",
     "text": [
      "   Country   Age   Salary\n",
      "0   France  44.0  72000.0\n",
      "1    Spain  27.0  48000.0\n",
      "2  Germany  30.0  54000.0\n",
      "3    Spain  38.0  61000.0\n",
      "4  Germany  40.0      NaN\n",
      "5   France  35.0  58000.0\n",
      "6    Spain   NaN  52000.0\n",
      "7   France  48.0  79000.0\n",
      "8  Germany  50.0  83000.0\n",
      "9   France  37.0  67000.0\n"
     ]
    }
   ],
   "source": [
    "print(X)"
   ]
  },
  {
   "cell_type": "code",
   "execution_count": 7,
   "id": "59a3a117-24e5-4ff3-8582-af68d1e9cfc5",
   "metadata": {},
   "outputs": [
    {
     "name": "stdout",
     "output_type": "stream",
     "text": [
      "0     No\n",
      "1    Yes\n",
      "2     No\n",
      "3     No\n",
      "4    Yes\n",
      "5    Yes\n",
      "6     No\n",
      "7    Yes\n",
      "8     No\n",
      "9    Yes\n",
      "Name: Purchased, dtype: object\n"
     ]
    }
   ],
   "source": [
    "print(y)"
   ]
  },
  {
   "cell_type": "markdown",
   "id": "f83bc1dc-90e1-4983-b883-b1a05229b80e",
   "metadata": {},
   "source": [
    "<h2>Taking Care of Missing Data</h2>"
   ]
  },
  {
   "cell_type": "code",
   "execution_count": 8,
   "id": "42eb57b9-1aa2-49f3-837c-53a4a8623b90",
   "metadata": {},
   "outputs": [],
   "source": [
    "from sklearn.impute import SimpleImputer\n",
    "imputer = SimpleImputer(missing_values=np.nan, strategy='mean')\n",
    "imputer.fit(X.iloc[:, 1:3])\n",
    "X.iloc[:,1:3] = imputer.transform(X.iloc[:, 1:3])"
   ]
  },
  {
   "cell_type": "markdown",
   "id": "dff06163-1183-407a-85de-9ab86086df0e",
   "metadata": {},
   "source": [
    "SimpleImputer: This class from sklearn is used to handle missing data by replacing missing values. In this case, it replaces np.nan values with the mean of the feature where the missing value occurs.\n",
    "\n",
    "1. missing_values=np.nan: This tells the imputer to look for NaN values in the data.\n",
    "strategy='mean': This defines that the missing values will be replaced by the mean of the column.\n",
    "\n",
    "2. fit(): This method computes the mean of columns 1 and 2 (because the index is zero-based, the slice 1:3 refers to the 2nd and 3rd columns). The imputer learns the mean value from the data in these columns.\n",
    "\n",
    "3. transform(): After fitting the imputer with the mean values of columns 1 and 2, the transform() method is used to replace the missing values (np.nan) in those columns with the computed mean.\n",
    "\n",
    "X[:, 1:3] =: This updates the original matrix X by assigning the transformed values back to columns 1 and 2."
   ]
  },
  {
   "cell_type": "code",
   "execution_count": 9,
   "id": "62454584-00ad-426e-bb24-670f3765981d",
   "metadata": {},
   "outputs": [
    {
     "name": "stdout",
     "output_type": "stream",
     "text": [
      "   Country        Age        Salary\n",
      "0   France  44.000000  72000.000000\n",
      "1    Spain  27.000000  48000.000000\n",
      "2  Germany  30.000000  54000.000000\n",
      "3    Spain  38.000000  61000.000000\n",
      "4  Germany  40.000000  63777.777778\n",
      "5   France  35.000000  58000.000000\n",
      "6    Spain  38.777778  52000.000000\n",
      "7   France  48.000000  79000.000000\n",
      "8  Germany  50.000000  83000.000000\n",
      "9   France  37.000000  67000.000000\n"
     ]
    }
   ],
   "source": [
    "print(X)"
   ]
  },
  {
   "cell_type": "markdown",
   "id": "3e00e504-1d34-41d1-b540-71fbdabeee4c",
   "metadata": {},
   "source": [
    "<h2>Encoding Categorical Data</h2>"
   ]
  },
  {
   "cell_type": "markdown",
   "id": "60530db6-c2e5-4873-875e-0444ba798ee4",
   "metadata": {},
   "source": [
    "Encoding categorical data is the process of converting non-numerical categories (like ‘red’, ‘blue’, or ‘small’, ‘medium’, ‘large’) into a numerical format that machine learning models can understand. Models usually require input data to be numeric, so categorical data (like names of colors, countries, etc.) needs to be transformed into numbers."
   ]
  },
  {
   "cell_type": "markdown",
   "id": "62e2540f-4817-4364-8f6a-3465d82a8655",
   "metadata": {},
   "source": [
    "<h3>Encoding the Independant Variable</h3>"
   ]
  },
  {
   "cell_type": "code",
   "execution_count": 10,
   "id": "7a355b9d-0395-4873-9787-390db80137a0",
   "metadata": {},
   "outputs": [
    {
     "name": "stdout",
     "output_type": "stream",
     "text": [
      "[[1.00000000e+00 0.00000000e+00 0.00000000e+00 4.40000000e+01\n",
      "  7.20000000e+04]\n",
      " [0.00000000e+00 0.00000000e+00 1.00000000e+00 2.70000000e+01\n",
      "  4.80000000e+04]\n",
      " [0.00000000e+00 1.00000000e+00 0.00000000e+00 3.00000000e+01\n",
      "  5.40000000e+04]\n",
      " [0.00000000e+00 0.00000000e+00 1.00000000e+00 3.80000000e+01\n",
      "  6.10000000e+04]\n",
      " [0.00000000e+00 1.00000000e+00 0.00000000e+00 4.00000000e+01\n",
      "  6.37777778e+04]\n",
      " [1.00000000e+00 0.00000000e+00 0.00000000e+00 3.50000000e+01\n",
      "  5.80000000e+04]\n",
      " [0.00000000e+00 0.00000000e+00 1.00000000e+00 3.87777778e+01\n",
      "  5.20000000e+04]\n",
      " [1.00000000e+00 0.00000000e+00 0.00000000e+00 4.80000000e+01\n",
      "  7.90000000e+04]\n",
      " [0.00000000e+00 1.00000000e+00 0.00000000e+00 5.00000000e+01\n",
      "  8.30000000e+04]\n",
      " [1.00000000e+00 0.00000000e+00 0.00000000e+00 3.70000000e+01\n",
      "  6.70000000e+04]]\n"
     ]
    }
   ],
   "source": [
    "from sklearn.compose import ColumnTransformer\n",
    "from sklearn.preprocessing import OneHotEncoder\n",
    "\n",
    "ct = ColumnTransformer(transformers= [('encoder',OneHotEncoder(), [0])],remainder='passthrough')\n",
    "X = np.array(ct.fit_transform(X))\n",
    "print(X)"
   ]
  },
  {
   "cell_type": "markdown",
   "id": "df2546b8-cc1c-464b-a030-86c644b1fbbd",
   "metadata": {},
   "source": [
    "1.\tImporting Necessary Libraries:\n",
    "\n",
    "  \t•   ColumnTransformer: This is a utility in scikit-learn that allows you to apply different preprocessing steps to different columns of your dataset.\n",
    "\t•\tOneHotEncoder: This is a preprocessing technique that converts categorical variables into a format that can be provided to machine learning algorithms to do a better job in prediction. It transforms a categorical feature with k categories into k binary features.\n",
    "\n",
    "3. Creating the ColumnTransformer:\n",
    "\n",
    "   •\ttransformers: This argument specifies how to transform each column. It takes a list of tuples where:\n",
    "\t•\tThe first element is a name for the transformation (in this case, 'encoder').\n",
    "\t•\tThe second element is the transformer instance (OneHotEncoder()).\n",
    "\t•\tThe third element is a list of column indices to which the transformation will be applied. In this case, it’s [0], meaning the first column (index 0) of the input array X.\n",
    "\t•\tremainder='passthrough': This argument specifies what to do with the remaining columns not specified in the transformers. By setting it to 'passthrough', it means that those columns will be included in the output without any change.\n",
    "\n",
    "4. Transforming the Data:\n",
    "\n",
    "   •\tfit_transform(X): This method fits the ColumnTransformer to the data X and then transforms it. The OneHotEncoder will identify the unique categories in the first column and create new binary columns for each category.\n",
    "\t•\tThe transformed output will replace the original first column with the newly created binary columns, while the remaining columns will pass through unchanged due to the remainder='passthrough' setting.\n"
   ]
  },
  {
   "cell_type": "markdown",
   "id": "41c0a21f-9c30-4231-a6c8-a3057274235f",
   "metadata": {},
   "source": [
    "<h3>Encoding the Dependent Variable</h3>"
   ]
  },
  {
   "cell_type": "code",
   "execution_count": 11,
   "id": "ea64c1f3-66fc-407b-b44f-c4c57951aa1a",
   "metadata": {},
   "outputs": [
    {
     "name": "stdout",
     "output_type": "stream",
     "text": [
      "[0 1 0 0 1 1 0 1 0 1]\n"
     ]
    }
   ],
   "source": [
    "from sklearn.preprocessing import LabelEncoder\n",
    "le = LabelEncoder()\n",
    "y = le.fit_transform(y)\n",
    "\n",
    "print(y)"
   ]
  },
  {
   "cell_type": "markdown",
   "id": "08623441-31fd-4b32-984f-5d12a5125fa9",
   "metadata": {},
   "source": [
    "1.\tImporting LabelEncoder:\n",
    "\n",
    "\t•\tThe LabelEncoder is a utility that converts categorical labels into numerical values. This is useful for machine learning models that work with numerical inputs.\n",
    "\n",
    "2.\tCreating an Instance of LabelEncoder:\n",
    "\n",
    "\t•\tAn instance of LabelEncoder is created using le = LabelEncoder(). This instance will be used to perform the encoding.\n",
    "\n",
    "3.\tFitting and Transforming the Labels:\n",
    "\n",
    "\t•\tThe fit_transform method is called on the label encoder instance with y as the input. This method does two things:\n",
    "\t•\tFit: It identifies all unique categories in y and assigns each a unique integer.\n",
    "\t•\tTransform: It converts each label in y into its corresponding integer value."
   ]
  },
  {
   "cell_type": "markdown",
   "id": "a4fd4ad0-0265-40e5-8068-9a1e0523e782",
   "metadata": {},
   "source": [
    "-> Feature Scaling should be done after splitting the dataset. \n",
    "\n",
    "-> To Prevent Data Leakage."
   ]
  },
  {
   "cell_type": "markdown",
   "id": "68d68271-5abf-4e24-98dd-3785c3053e93",
   "metadata": {},
   "source": [
    "<h2>Splitting the Dataset into the Training Set and Test Set</h2>"
   ]
  },
  {
   "cell_type": "code",
   "execution_count": 12,
   "id": "f0b57921-6a00-489a-b3ee-478ef9818af1",
   "metadata": {},
   "outputs": [],
   "source": [
    "from sklearn.model_selection import train_test_split\n",
    "\n",
    "X_train, X_test, y_train, y_test = train_test_split(X,y, test_size = 0.2, random_state = 1)"
   ]
  },
  {
   "cell_type": "markdown",
   "id": "cd3ebcda-530a-49f8-9b86-65e5a40a9ca7",
   "metadata": {},
   "source": [
    "The `train_test_split` function from `sklearn.model_selection` is used to split your dataset into two subsets: one for training your model (`X_train`, `y_train`) and one for testing it (`X_test`, `y_test`). Here's what each parameter means:\n",
    "\n",
    "- `X, y`: These are your features (`X`) and target labels (`y`).\n",
    "- `test_size = 0.2`: This specifies that 20% of the data will be used for testing, while the remaining 80% will be used for training.\n",
    "- `random_state = 1`: This ensures reproducibility by setting a seed for random number generation. If you run the code again, the split will be the same as long as `random_state` is set to the same value.\n",
    "\n",
    "As a result:\n",
    "- `X_train`, `y_train`: Data used for training the model.\n",
    "- `X_test`, `y_test`: Data used for testing the model's performance."
   ]
  },
  {
   "cell_type": "code",
   "execution_count": 13,
   "id": "e8d7396d-754e-407e-a141-d03432d6188a",
   "metadata": {},
   "outputs": [
    {
     "name": "stdout",
     "output_type": "stream",
     "text": [
      "[[0.00000000e+00 0.00000000e+00 1.00000000e+00 3.87777778e+01\n",
      "  5.20000000e+04]\n",
      " [0.00000000e+00 1.00000000e+00 0.00000000e+00 4.00000000e+01\n",
      "  6.37777778e+04]\n",
      " [1.00000000e+00 0.00000000e+00 0.00000000e+00 4.40000000e+01\n",
      "  7.20000000e+04]\n",
      " [0.00000000e+00 0.00000000e+00 1.00000000e+00 3.80000000e+01\n",
      "  6.10000000e+04]\n",
      " [0.00000000e+00 0.00000000e+00 1.00000000e+00 2.70000000e+01\n",
      "  4.80000000e+04]\n",
      " [1.00000000e+00 0.00000000e+00 0.00000000e+00 4.80000000e+01\n",
      "  7.90000000e+04]\n",
      " [0.00000000e+00 1.00000000e+00 0.00000000e+00 5.00000000e+01\n",
      "  8.30000000e+04]\n",
      " [1.00000000e+00 0.00000000e+00 0.00000000e+00 3.50000000e+01\n",
      "  5.80000000e+04]]\n"
     ]
    }
   ],
   "source": [
    "print(X_train)"
   ]
  },
  {
   "cell_type": "code",
   "execution_count": 14,
   "id": "6a1088e9-3c48-436d-948e-4bf97a39c26f",
   "metadata": {},
   "outputs": [
    {
     "name": "stdout",
     "output_type": "stream",
     "text": [
      "[[0.0e+00 1.0e+00 0.0e+00 3.0e+01 5.4e+04]\n",
      " [1.0e+00 0.0e+00 0.0e+00 3.7e+01 6.7e+04]]\n"
     ]
    }
   ],
   "source": [
    "print(X_test)"
   ]
  },
  {
   "cell_type": "code",
   "execution_count": 15,
   "id": "757ab85e-924c-4d24-b32f-60baa5eb3d3b",
   "metadata": {},
   "outputs": [
    {
     "name": "stdout",
     "output_type": "stream",
     "text": [
      "[0 1 0 0 1 1 0 1]\n"
     ]
    }
   ],
   "source": [
    "print(y_train)"
   ]
  },
  {
   "cell_type": "code",
   "execution_count": 16,
   "id": "8ee50f30-6fa6-4006-ad3b-90aa84861996",
   "metadata": {},
   "outputs": [
    {
     "name": "stdout",
     "output_type": "stream",
     "text": [
      "[0 1]\n"
     ]
    }
   ],
   "source": [
    "print(y_test)"
   ]
  },
  {
   "cell_type": "markdown",
   "id": "c29e83d0-0302-4160-9daf-b94600e147bc",
   "metadata": {},
   "source": [
    "<h2>Feature Scaling</h2>"
   ]
  },
  {
   "cell_type": "code",
   "execution_count": 21,
   "id": "5f0de9c3-86ea-4f17-a0ab-4ae91fc4de49",
   "metadata": {},
   "outputs": [],
   "source": [
    "from sklearn.preprocessing import StandardScaler\n",
    "\n",
    "sc = StandardScaler()\n",
    "X_train[:, 3:] = sc.fit_transform(X_train[:, 3:])\n",
    "X_test[:, 3:] = sc.transform(X_test[:, 3:])                                 "
   ]
  },
  {
   "cell_type": "code",
   "execution_count": 22,
   "id": "86a6c590-b523-49fe-a260-bb9724cbc940",
   "metadata": {},
   "outputs": [
    {
     "name": "stdout",
     "output_type": "stream",
     "text": [
      "[[ 0.          0.          1.         -0.19159184 -1.07812594]\n",
      " [ 0.          1.          0.         -0.01411729 -0.07013168]\n",
      " [ 1.          0.          0.          0.56670851  0.63356243]\n",
      " [ 0.          0.          1.         -0.30453019 -0.30786617]\n",
      " [ 0.          0.          1.         -1.90180114 -1.42046362]\n",
      " [ 1.          0.          0.          1.14753431  1.23265336]\n",
      " [ 0.          1.          0.          1.43794721  1.57499104]\n",
      " [ 1.          0.          0.         -0.74014954 -0.56461943]]\n"
     ]
    }
   ],
   "source": [
    "print(X_train)"
   ]
  },
  {
   "cell_type": "code",
   "execution_count": 23,
   "id": "1925ab88-286e-4f18-a087-62de4fdcdfb1",
   "metadata": {},
   "outputs": [
    {
     "name": "stdout",
     "output_type": "stream",
     "text": [
      "[[ 0.  1.  0. -1. -1.]\n",
      " [ 1.  0.  0.  1.  1.]]\n"
     ]
    }
   ],
   "source": [
    "print(X_test)"
   ]
  },
  {
   "cell_type": "code",
   "execution_count": null,
   "id": "6194fa83-69d7-4a49-9b3d-2f8ca561c939",
   "metadata": {},
   "outputs": [],
   "source": []
  }
 ],
 "metadata": {
  "kernelspec": {
   "display_name": "Python (myenv)",
   "language": "python",
   "name": "myenv"
  },
  "language_info": {
   "codemirror_mode": {
    "name": "ipython",
    "version": 3
   },
   "file_extension": ".py",
   "mimetype": "text/x-python",
   "name": "python",
   "nbconvert_exporter": "python",
   "pygments_lexer": "ipython3",
   "version": "3.12.7"
  }
 },
 "nbformat": 4,
 "nbformat_minor": 5
}
