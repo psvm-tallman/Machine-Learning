{
 "cells": [
  {
   "cell_type": "markdown",
   "id": "d783cb71-3ca0-4de4-badb-178b3026d484",
   "metadata": {},
   "source": [
    "<h1>Multiple Linear Regression</h1>"
   ]
  },
  {
   "cell_type": "markdown",
   "id": "55534dce-3d7a-4358-a9fe-6bd306a625af",
   "metadata": {},
   "source": [
    "Multiple linear regression is a statistical technique used to model the relationship between one dependent variable and two or more independent variables. It extends simple linear regression by allowing multiple predictors to estimate the target variable, making it ideal for analyzing complex relationships where various factors contribute to the outcome.\n",
    "\n",
    "Key Aspects of Multiple Linear Regression\n",
    "\n",
    "\t1.\tEquation: The model can be represented as:\n",
    "        \\[\n",
    "        Y = b_0 + b_1X_1 + b_2X_2 + \\dots + b_nX_n + \\epsilon\\]\n",
    "        \n",
    "\t•\t￼ is the dependent variable (target).\n",
    "\t•\t\\( X_1, X_2, \\dots, X_n \\) are independent variables (predictors).\n",
    "\t•\t￼ is the intercept, and \\( b_1, b_2, \\dots, b_n \\) are the coefficients for each predictor.\n",
    "\t•\t￼ is the error term.\n",
    "    \n",
    "\t2.\tObjective: To find the best-fitting line (or hyperplane) that minimizes the sum of the squared differences (errors) between the              observed and predicted values of ￼.\n",
    "    \n",
    "\t3.\tAssumptions:\n",
    "\t•\tLinearity: The relationship between the dependent and independent variables is linear.\n",
    "\t•\tIndependence: Observations should be independent of each other.\n",
    "\t•\tHomoscedasticity: Constant variance of the error terms.\n",
    "\t•\tNormality of Errors: The residuals (errors) are normally distributed.\n",
    "    \n",
    "\t4.\tInterpretation:\n",
    "\t•\tCoefficients: Each coefficient represents the change in ￼ for a one-unit change in the respective ￼, assuming other variables are            held constant.\n",
    "\t•\tSignificance: The p-values for each coefficient can determine if a predictor significantly influences ￼.\n",
    "\t•\tGoodness of Fit: Metrics like ￼ and Adjusted ￼ assess the model’s explanatory power.\n",
    "\n",
    "Applications\n",
    "\n",
    "Multiple linear regression is used widely in fields like finance, healthcare, and marketing to predict outcomes based on several factors. Examples include predicting house prices based on features like size, location, and number of rooms or forecasting sales based on advertising spend, season, and economic indicators."
   ]
  },
  {
   "cell_type": "code",
   "execution_count": null,
   "id": "9864555d-b0bb-45f0-9232-da966e829ff6",
   "metadata": {},
   "outputs": [],
   "source": []
  }
 ],
 "metadata": {
  "kernelspec": {
   "display_name": "Python (myenv)",
   "language": "python",
   "name": "myenv"
  },
  "language_info": {
   "codemirror_mode": {
    "name": "ipython",
    "version": 3
   },
   "file_extension": ".py",
   "mimetype": "text/x-python",
   "name": "python",
   "nbconvert_exporter": "python",
   "pygments_lexer": "ipython3",
   "version": "3.12.7"
  }
 },
 "nbformat": 4,
 "nbformat_minor": 5
}
